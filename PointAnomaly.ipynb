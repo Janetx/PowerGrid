{
 "cells": [
  {
   "cell_type": "markdown",
   "metadata": {},
   "source": [
    "# Initial Imports"
   ]
  },
  {
   "cell_type": "code",
   "execution_count": 1,
   "metadata": {
    "collapsed": true
   },
   "outputs": [],
   "source": [
    "import argparse, sys, os, logging\n",
    "import numpy as np\n",
    "import pandas as pd\n",
    "import powergrid_data\n",
    "from hmmlearn import hmm\n",
    "from datetime import datetime\n",
    "from pandas.tools.plotting import autocorrelation_plot\n",
    "from sklearn.preprocessing import StandardScaler, normalize\n",
    "from statsmodels.nonparametric.smoothers_lowess import lowess\n",
    "from matplotlib import cm, pyplot as plt\n",
    "from matplotlib.dates import YearLocator, MonthLocator, WeekdayLocator, DayLocator, HourLocator, AutoDateLocator, DateFormatter, AutoDateFormatter, date2num\n",
    "from matplotlib.dates import MO, TU, WE, TH, FR, SA, SU\n",
    "from analysis import analyzer\n",
    "import warnings\n",
    "\n",
    "\n",
    "%matplotlib inline\n",
    "warnings.filterwarnings('ignore')"
   ]
  },
  {
   "cell_type": "markdown",
   "metadata": {},
   "source": [
    "# Test and Train Files Directory"
   ]
  },
  {
   "cell_type": "code",
   "execution_count": null,
   "metadata": {
    "collapsed": true
   },
   "outputs": [],
   "source": [
    "train = 'data/train/train.csv'\n",
    "test = 'data/test/test_v1.csv'"
   ]
  },
  {
   "cell_type": "markdown",
   "metadata": {},
   "source": [
    "# Extracting Data from csv files"
   ]
  },
  {
   "cell_type": "code",
   "execution_count": null,
   "metadata": {
    "collapsed": true
   },
   "outputs": [],
   "source": [
    "power_grid = powergrid_data.datasets(train, test)\n",
    "analyze = analyzer(power_grid)"
   ]
  },
  {
   "cell_type": "markdown",
   "metadata": {},
   "source": [
    "# Seperate Features and Dates\n",
    "\n",
    "> Note: Edit from here onwards"
   ]
  },
  {
   "cell_type": "code",
   "execution_count": null,
   "metadata": {
    "collapsed": true
   },
   "outputs": [],
   "source": [
    "dates_columns = 'DateTime'\n",
    "features_columns = ['Global_active_power']\n",
    "\n",
    "analyze.time_series(dates_columns, features_columns)"
   ]
  },
  {
   "cell_type": "markdown",
   "metadata": {},
   "source": [
    "# Assign the scope to the parser to extract data\n",
    "> Scope can include years, months, days, hours, minutes and seconds to analyse data you want"
   ]
  },
  {
   "cell_type": "code",
   "execution_count": null,
   "metadata": {
    "collapsed": true
   },
   "outputs": [],
   "source": [
    "## If you modify year, month and day, make sure the above dates_columns is either Date or DateTime\n",
    "\n",
    "## Both test and train has data of year 2006, 2007 and 2008\n",
    "Year = 2007\n",
    "\n",
    "## Months takes a string of month full name e.g 'March'\n",
    "Month = 'May'\n",
    "Day = 5\n",
    "\n",
    "## If you modify hour, minutes and seconds, make sure the above dates_columns is either DateTime or Time\n",
    "## Hour uses 24 hr clock\n",
    "Hour = None\n",
    "Minutes = None\n",
    "Seconds = None\n",
    "\n",
    "train_dates, train_features, test_dates, test_features = analyze.parser(year = Year, month = Month, day = Day, hour = Hour, minutes = Minutes, seconds = Seconds)"
   ]
  },
  {
   "cell_type": "markdown",
   "metadata": {},
   "source": [
    "# Training the model and extracting max likelihood hidden state sequence"
   ]
  },
  {
   "cell_type": "code",
   "execution_count": null,
   "metadata": {
    "collapsed": false
   },
   "outputs": [],
   "source": [
    "# Make an HMM instance and execute fit\n",
    "model = hmm.GaussianHMM(n_components=4, covariance_type=\"full\", n_iter=200).fit(train_features)\n",
    "\n",
    "train_state_seq = model.predict(model.sample(test_features.size)[0])\n",
    "test_state_seq = model.predict(test_features)\n",
    "\n",
    "means = model.means_\n",
    "covars = model.covars_"
   ]
  },
  {
   "cell_type": "markdown",
   "metadata": {},
   "source": [
    "# Filtering Anomaly Data"
   ]
  },
  {
   "cell_type": "code",
   "execution_count": null,
   "metadata": {
    "collapsed": false
   },
   "outputs": [],
   "source": [
    "NotAnomolyBinary = (train_state_seq == test_state_seq)\n",
    "AnomolyBinary = NotAnomolyBinary == False\n",
    "\n",
    "\n",
    "test_features_anomaly = np.copy(test_features)\n",
    "test_features_anomaly[NotAnomolyBinary] = None"
   ]
  },
  {
   "cell_type": "markdown",
   "metadata": {},
   "source": [
    "# Display Graph"
   ]
  },
  {
   "cell_type": "code",
   "execution_count": null,
   "metadata": {
    "collapsed": false
   },
   "outputs": [],
   "source": [
    "plt.figure(figsize=(20,10))\n",
    "\n",
    "# green is the original test data\n",
    "plt.plot(test_features, color='g')\n",
    "\n",
    "# blue is the train data\n",
    "# plt.plot(train_state_seq, color='b')\n",
    "\n",
    "# red is the test data anomaly\n",
    "plt.plot(test_features_anomaly, color='r')"
   ]
  },
  {
   "cell_type": "markdown",
   "metadata": {},
   "source": [
    "# First Column For Output"
   ]
  },
  {
   "cell_type": "code",
   "execution_count": null,
   "metadata": {
    "collapsed": false
   },
   "outputs": [],
   "source": [
    "print(AnomolyBinary.astype(int))"
   ]
  },
  {
   "cell_type": "code",
   "execution_count": null,
   "metadata": {
    "collapsed": true
   },
   "outputs": [],
   "source": []
  }
 ],
 "metadata": {
  "kernelspec": {
   "display_name": "Python 3",
   "language": "python",
   "name": "python3"
  },
  "language_info": {
   "codemirror_mode": {
    "name": "ipython",
    "version": 3
   },
   "file_extension": ".py",
   "mimetype": "text/x-python",
   "name": "python",
   "nbconvert_exporter": "python",
   "pygments_lexer": "ipython3",
   "version": "3.6.0"
  }
 },
 "nbformat": 4,
 "nbformat_minor": 2
}
