{
 "cells": [
  {
   "cell_type": "code",
   "execution_count": 13,
   "metadata": {
    "collapsed": true
   },
   "outputs": [],
   "source": [
    "import argparse, sys, os, logging\n",
    "import pandas as pd\n",
    "import powergrid_data\n",
    "import matplotlib.pyplot as plt\n",
    "\n",
    "%matplotlib inline\n",
    "\n",
    "train = 'data/train/train.csv'\n",
    "test = 'data/test/test_v1.csv'"
   ]
  },
  {
   "cell_type": "code",
   "execution_count": 34,
   "metadata": {},
   "outputs": [
    {
     "data": {
      "image/png": "[encoded data removed]",
      "text/plain": [
       "<matplotlib.figure.Figure at 0x371baf70>"
      ]
     },
     "metadata": {},
     "output_type": "display_data"
    }
   ],
   "source": [
    "power_grid = powergrid_data.datasets(train, test)\n",
    "# print power_grid.data #training data\n",
    "# print (power_grid.data).isnull().values.any()\n",
    "def plot_corr(df, size=12):\n",
    "    corr = df.corr()\n",
    "    fig, ax = plt.subplots(figsize=(size, size))\n",
    "    ax.matshow(corr)\n",
    "    plt.xticks(range(len(corr.columns)), corr.columns)\n",
    "    plt.yticks(range(len(corr.columns)), corr.columns)\n",
    "\n",
    "plot_corr(power_grid.data)"
   ]
  },
  {
   "cell_type": "code",
   "execution_count": 35,
   "metadata": {},
   "outputs": [
    {
     "data": {
      "text/html": [
       "<div>\n",
       "<style>\n",
       "    .dataframe thead tr:only-child th {\n",
       "        text-align: right;\n",
       "    }\n",
       "\n",
       "    .dataframe thead th {\n",
       "        text-align: left;\n",
       "    }\n",
       "\n",
       "    .dataframe tbody tr th {\n",
       "        vertical-align: top;\n",
       "    }\n",
       "</style>\n",
       "<table border=\"1\" class=\"dataframe\">\n",
       "  <thead>\n",
       "    <tr style=\"text-align: right;\">\n",
       "      <th></th>\n",
       "      <th>Global_active_power</th>\n",
       "      <th>Global_reactive_power</th>\n",
       "      <th>Voltage</th>\n",
       "      <th>Global_intensity</th>\n",
       "      <th>Sub_metering_1</th>\n",
       "      <th>Sub_metering_2</th>\n",
       "      <th>Sub_metering_3</th>\n",
       "    </tr>\n",
       "  </thead>\n",
       "  <tbody>\n",
       "    <tr>\n",
       "      <th>Global_active_power</th>\n",
       "      <td>1.000000</td>\n",
       "      <td>0.133702</td>\n",
       "      <td>-0.269727</td>\n",
       "      <td>0.594767</td>\n",
       "      <td>0.231720</td>\n",
       "      <td>0.222768</td>\n",
       "      <td>0.387191</td>\n",
       "    </tr>\n",
       "    <tr>\n",
       "      <th>Global_reactive_power</th>\n",
       "      <td>0.133702</td>\n",
       "      <td>1.000000</td>\n",
       "      <td>-0.134748</td>\n",
       "      <td>0.274127</td>\n",
       "      <td>0.138255</td>\n",
       "      <td>0.149832</td>\n",
       "      <td>0.086631</td>\n",
       "    </tr>\n",
       "    <tr>\n",
       "      <th>Voltage</th>\n",
       "      <td>-0.269727</td>\n",
       "      <td>-0.134748</td>\n",
       "      <td>1.000000</td>\n",
       "      <td>-0.446549</td>\n",
       "      <td>-0.213308</td>\n",
       "      <td>-0.189237</td>\n",
       "      <td>-0.300730</td>\n",
       "    </tr>\n",
       "    <tr>\n",
       "      <th>Global_intensity</th>\n",
       "      <td>0.594767</td>\n",
       "      <td>0.274127</td>\n",
       "      <td>-0.446549</td>\n",
       "      <td>1.000000</td>\n",
       "      <td>0.475683</td>\n",
       "      <td>0.463476</td>\n",
       "      <td>0.607046</td>\n",
       "    </tr>\n",
       "    <tr>\n",
       "      <th>Sub_metering_1</th>\n",
       "      <td>0.231720</td>\n",
       "      <td>0.138255</td>\n",
       "      <td>-0.213308</td>\n",
       "      <td>0.475683</td>\n",
       "      <td>1.000000</td>\n",
       "      <td>0.061514</td>\n",
       "      <td>0.115030</td>\n",
       "    </tr>\n",
       "    <tr>\n",
       "      <th>Sub_metering_2</th>\n",
       "      <td>0.222768</td>\n",
       "      <td>0.149832</td>\n",
       "      <td>-0.189237</td>\n",
       "      <td>0.463476</td>\n",
       "      <td>0.061514</td>\n",
       "      <td>1.000000</td>\n",
       "      <td>0.115544</td>\n",
       "    </tr>\n",
       "    <tr>\n",
       "      <th>Sub_metering_3</th>\n",
       "      <td>0.387191</td>\n",
       "      <td>0.086631</td>\n",
       "      <td>-0.300730</td>\n",
       "      <td>0.607046</td>\n",
       "      <td>0.115030</td>\n",
       "      <td>0.115544</td>\n",
       "      <td>1.000000</td>\n",
       "    </tr>\n",
       "  </tbody>\n",
       "</table>\n",
       "</div>"
      ],
      "text/plain": [
       "                       Global_active_power  Global_reactive_power   Voltage  \\\n",
       "Global_active_power               1.000000               0.133702 -0.269727   \n",
       "Global_reactive_power             0.133702               1.000000 -0.134748   \n",
       "Voltage                          -0.269727              -0.134748  1.000000   \n",
       "Global_intensity                  0.594767               0.274127 -0.446549   \n",
       "Sub_metering_1                    0.231720               0.138255 -0.213308   \n",
       "Sub_metering_2                    0.222768               0.149832 -0.189237   \n",
       "Sub_metering_3                    0.387191               0.086631 -0.300730   \n",
       "\n",
       "                       Global_intensity  Sub_metering_1  Sub_metering_2  \\\n",
       "Global_active_power            0.594767        0.231720        0.222768   \n",
       "Global_reactive_power          0.274127        0.138255        0.149832   \n",
       "Voltage                       -0.446549       -0.213308       -0.189237   \n",
       "Global_intensity               1.000000        0.475683        0.463476   \n",
       "Sub_metering_1                 0.475683        1.000000        0.061514   \n",
       "Sub_metering_2                 0.463476        0.061514        1.000000   \n",
       "Sub_metering_3                 0.607046        0.115030        0.115544   \n",
       "\n",
       "                       Sub_metering_3  \n",
       "Global_active_power          0.387191  \n",
       "Global_reactive_power        0.086631  \n",
       "Voltage                     -0.300730  \n",
       "Global_intensity             0.607046  \n",
       "Sub_metering_1               0.115030  \n",
       "Sub_metering_2               0.115544  \n",
       "Sub_metering_3               1.000000  "
      ]
     },
     "execution_count": 35,
     "metadata": {},
     "output_type": "execute_result"
    }
   ],
   "source": [
    "power_grid.target.corr()"
   ]
  },
  {
   "cell_type": "code",
   "execution_count": null,
   "metadata": {
    "collapsed": true
   },
   "outputs": [],
   "source": []
  }
 ],
 "metadata": {
  "kernelspec": {
   "display_name": "Python 2",
   "language": "python",
   "name": "python2"
  },
  "language_info": {
   "codemirror_mode": {
    "name": "ipython",
    "version": 2
   },
   "file_extension": ".py",
   "mimetype": "text/x-python",
   "name": "python",
   "nbconvert_exporter": "python",
   "pygments_lexer": "ipython2",
   "version": "2.7.13"
  }
 },
 "nbformat": 4,
 "nbformat_minor": 2
}
